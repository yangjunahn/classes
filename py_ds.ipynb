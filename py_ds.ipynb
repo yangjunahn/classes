{
 "cells": [
  {
   "cell_type": "markdown",
   "metadata": {},
   "source": [
    "# 1. Chapter 05 List\n",
    "## 1.1. Linked List"
   ]
  },
  {
   "cell_type": "code",
   "execution_count": 1,
   "metadata": {},
   "outputs": [
    {
     "name": "stdout",
     "output_type": "stream",
     "text": [
      "count(3): 2\n",
      "get(2): 3\n",
      "2 3 3 4 30 20 \n"
     ]
    }
   ],
   "source": [
    "from DS.list.linkedListBasic import *\n",
    "\n",
    "list = LinkedListBasic()\n",
    "list.append(30); list.insert(0, 20)\n",
    "a = LinkedListBasic()\n",
    "a.append(4); a.append(3); a.append(3); a.append(2); a.append(1)\n",
    "list.extend(a)\n",
    "list.reverse()\n",
    "list.pop(0)\n",
    "print(\"count(3):\", list.count(3))\n",
    "print(\"get(2):\", list.get(2))\n",
    "list.printList()\n",
    "\n",
    "# 코드 5-16"
   ]
  },
  {
   "cell_type": "markdown",
   "metadata": {},
   "source": [
    "## 1.2. Circular Linked List"
   ]
  },
  {
   "cell_type": "code",
   "execution_count": 2,
   "metadata": {},
   "outputs": [
    {
     "name": "stdout",
     "output_type": "stream",
     "text": [
      "count(3): 2\n",
      "get(2): 3\n",
      "2 3 3 4 30 20 \n"
     ]
    }
   ],
   "source": [
    "from DS.list.circularLinkedList import *\n",
    "\n",
    "list = CircularLinkedList()\n",
    "list.append(30); list.insert(0, 20)\n",
    "a = [4, 3, 3, 2, 1]\n",
    "list.extend(a)\n",
    "list.reverse()\n",
    "list.pop(0)\n",
    "print(\"count(3):\", list.count(3))\n",
    "print(\"get(2):\", list.get(2))\n",
    "list.printList()\n",
    "\n",
    "# 코드 5-23"
   ]
  },
  {
   "cell_type": "markdown",
   "metadata": {},
   "source": [
    "## 1.3. Circular Doubly Linked List"
   ]
  },
  {
   "cell_type": "code",
   "execution_count": 3,
   "metadata": {},
   "outputs": [
    {
     "name": "stdout",
     "output_type": "stream",
     "text": [
      "count(3): 2\n",
      "get(2): 3\n",
      "2 3 3 4 30 20 \n"
     ]
    }
   ],
   "source": [
    "from DS.list.circularDoublyLinkedList import *\n",
    "\n",
    "list = CircularDoublyLinkedList()\n",
    "list.append(30); list.insert(0, 20)\n",
    "a = [4, 3, 3, 2, 1]\n",
    "list.extend(a)\n",
    "list.reverse()\n",
    "list.pop(0)\n",
    "print(\"count(3):\", list.count(3))\n",
    "print(\"get(2):\", list.get(2))\n",
    "list.printList()\n",
    "\n",
    "# 코드 5-26"
   ]
  },
  {
   "cell_type": "markdown",
   "metadata": {},
   "source": [
    "## 1.4. Practice\n",
    "### Problem 02, 03, 05, 06, 08, 09\n",
    "\n",
    "see linkedListBasic.py"
   ]
  },
  {
   "cell_type": "code",
   "execution_count": 8,
   "metadata": {},
   "outputs": [
    {
     "name": "stdout",
     "output_type": "stream",
     "text": [
      "contains(3): False\n",
      "print interval (0,2):\n",
      "4 6 7 \n",
      "number of items: 6\n",
      "number of items: 5\n",
      "c 7 8 \n",
      "c 7 8 8 a \n",
      "True\n",
      "3\n",
      "5\n"
     ]
    }
   ],
   "source": [
    "import importlib\n",
    "import DS.list.linkedListBasic\n",
    "importlib.reload(DS.list.linkedListBasic)\n",
    "from DS.list.linkedListBasic import *\n",
    "\n",
    "a02 = LinkedListBasic()\n",
    "a02.append(4); a02.append(6); a02.append(7); a02.append(8); a02.append(8); a02.append('a'); \n",
    "\n",
    "print(\"contains(3):\", a02.contains(3))\n",
    "print(\"print interval (0,2):\")\n",
    "a02.printInterval(0,2)\n",
    "\n",
    "print(\"number of items:\", a02.calculate_nItems())\n",
    "a02.pop(0)\n",
    "print(\"number of items:\", a02.calculate_nItems_recursive())\n",
    "\n",
    "a02.insert(1, 'b'); a02.insert(2,'c')\n",
    "a02.pop(0,2)\n",
    "a02.printInterval(0,2)\n",
    "\n",
    "a02.printList()\n",
    "print(a02.theSameList(7, 8))\n",
    "\n",
    "print(a02.lastIndexOf(8))\n",
    "a02.append(8)\n",
    "print(a02.lastIndexOf(8))\n",
    "\n",
    "# 코드 5-16"
   ]
  },
  {
   "cell_type": "markdown",
   "metadata": {},
   "source": [
    "### Problem 04\n",
    "\n",
    "see circularLinked:ist.py"
   ]
  },
  {
   "cell_type": "code",
   "execution_count": 5,
   "metadata": {},
   "outputs": [
    {
     "name": "stdout",
     "output_type": "stream",
     "text": [
      "6 7 8 \n",
      "4 6 7 8 8 a 4 6 4 \n"
     ]
    },
    {
     "data": {
      "text/plain": [
       "5"
      ]
     },
     "execution_count": 5,
     "metadata": {},
     "output_type": "execute_result"
    }
   ],
   "source": [
    "import DS.list.circularLinkedList\n",
    "importlib.reload(DS.list.circularLinkedList)\n",
    "from DS.list.circularLinkedList import *\n",
    "\n",
    "a03 = CircularLinkedList()\n",
    "a03.append(4); a03.append(6); a03.append(7); a03.append(8); a03.append(8); a03.append('a'); \n",
    "\n",
    "a03.printInterval(1,3)\n",
    "\n",
    "a03.append(4); a03.append(6); a03.append(4); \n",
    "a03.printList()\n",
    "a03.lastIndexOf(8)"
   ]
  },
  {
   "cell_type": "markdown",
   "metadata": {},
   "source": [
    "### Problem 07"
   ]
  },
  {
   "cell_type": "code",
   "execution_count": 6,
   "metadata": {},
   "outputs": [
    {
     "name": "stdout",
     "output_type": "stream",
     "text": [
      "\n",
      "1 3 5 9 10 14 \n",
      "1 3 5 9 10 14 15 \n",
      "1 3 4 5 9 10 14 15 \n"
     ]
    }
   ],
   "source": [
    "import DS.list.circularDoublyLinkedList\n",
    "importlib.reload(DS.list.circularDoublyLinkedList)\n",
    "from DS.list.circularDoublyLinkedList import *\n",
    "\n",
    "a07 = CircularDoublyLinkedList()\n",
    "a07.printList()\n",
    "a07.append(1); a07.append(3); a07.append(5); a07.append(9); a07.append(10); a07.append(14); \n",
    "a07.printList()\n",
    "a07.add(15)\n",
    "a07.printList()\n",
    "a07.add(4)\n",
    "a07.printList()\n"
   ]
  },
  {
   "cell_type": "markdown",
   "metadata": {},
   "source": [
    "# 2. Chapter 06 Stack\n",
    "## 2.1. List Stack"
   ]
  },
  {
   "cell_type": "code",
   "execution_count": 7,
   "metadata": {},
   "outputs": [
    {
     "name": "stdout",
     "output_type": "stream",
     "text": [
      "None\n",
      "Top is 200\n",
      "Stack from top: Monday 100 \n",
      "isEmpty? False\n"
     ]
    }
   ],
   "source": [
    "from DS.stack.listStack import *\n",
    "importlib.reload(DS.stack.listStack)\n",
    "from DS.stack.listStack import *\n",
    "\n",
    "st1 = ListStack()\n",
    "print(st1.top())\t# No effect\n",
    "st1.push(100)\n",
    "st1.push(200)\n",
    "print(\"Top is\", st1.top())\n",
    "st1.pop()\n",
    "st1.push('Monday')\n",
    "st1.printStack()\n",
    "print('isEmpty?', st1.isEmpty())\n",
    "\n",
    "# 코드 6-7"
   ]
  },
  {
   "cell_type": "markdown",
   "metadata": {},
   "source": [
    "## 2.2. Linked Stack"
   ]
  },
  {
   "cell_type": "code",
   "execution_count": 37,
   "metadata": {},
   "outputs": [
    {
     "name": "stdout",
     "output_type": "stream",
     "text": [
      "None\n",
      "Top is 200\n",
      "Stack from top:Monday100\n",
      "isEmpty? False\n"
     ]
    }
   ],
   "source": [
    "from DS.stack.linkedStack import *\n",
    "importlib.reload(DS.stack.linkedStack)\n",
    "from DS.stack.linkedStack import *\n",
    "\n",
    "st2 = LinkedStack()\n",
    "print(st2.top())\t# No effect\n",
    "st2.push(100)\n",
    "st2.push(200)\n",
    "print(\"Top is\", st2.top())\n",
    "st2.pop()\n",
    "st2.push('Monday')\n",
    "st2.printStack()\n",
    "print('isEmpty?', st2.isEmpty())\n",
    "\n",
    "# 코드 6-7"
   ]
  },
  {
   "cell_type": "markdown",
   "metadata": {},
   "source": [
    "## 2.3. Practice\n",
    "### Problem 02"
   ]
  },
  {
   "cell_type": "code",
   "execution_count": 27,
   "metadata": {},
   "outputs": [
    {
     "name": "stdout",
     "output_type": "stream",
     "text": [
      "None\n",
      "Top is 200\n",
      "Stack from top: 100 Monday \n",
      "isEmpty? False\n"
     ]
    }
   ],
   "source": [
    "from DS.stack.listStack import *\n",
    "importlib.reload(DS.stack.listStack)\n",
    "from DS.stack.listStack import *\n",
    "\n",
    "st1 = ListStack()\n",
    "print(st1.top_front())\t# No effect\n",
    "st1.push_front(100)\n",
    "st1.push_front(200)\n",
    "print(\"Top is\", st1.top_front())\n",
    "st1.pop_front()\n",
    "st1.push_front('Monday')\n",
    "st1.printStack()\n",
    "print('isEmpty?', st1.isEmpty())"
   ]
  },
  {
   "cell_type": "markdown",
   "metadata": {},
   "source": [
    "### Problem 03"
   ]
  },
  {
   "cell_type": "code",
   "execution_count": 28,
   "metadata": {},
   "outputs": [
    {
     "name": "stdout",
     "output_type": "stream",
     "text": [
      "True\n",
      "False\n"
     ]
    }
   ],
   "source": [
    "def checkString(a):\n",
    "    i = 0\n",
    "    a_stack = LinkedStack()\n",
    "    for i in range(len(a)):\n",
    "        if a[i] == '$': break\n",
    "        a_stack.push(a[i])\n",
    "        \n",
    "    for j in range(i+1, len(a)):\n",
    "        if (a_stack.isEmpty()): return False\n",
    "        if (a_stack.top() != a[j]): return False\n",
    "        a_stack.pop()\n",
    "    if (a_stack.isEmpty()): return True\n",
    "    else: return False\n",
    "\n",
    "print(checkString('true$eurt'))\n",
    "print(checkString('true$true'))"
   ]
  },
  {
   "cell_type": "markdown",
   "metadata": {},
   "source": [
    "### Problem 04"
   ]
  },
  {
   "cell_type": "code",
   "execution_count": 42,
   "metadata": {},
   "outputs": [
    {
     "name": "stdout",
     "output_type": "stream",
     "text": [
      "Stack from top:24Mon0\n",
      "Stack from top:24Mon0\n"
     ]
    }
   ],
   "source": [
    "problem04_stack = LinkedStack()\n",
    "problem04_stack.push(0)\n",
    "problem04_stack.push('Mon')\n",
    "problem04_stack.push(24)\n",
    "\n",
    "def copyStack(obj_a):\n",
    "    temp_stack = LinkedStack()\n",
    "    copy_stack = LinkedStack()\n",
    "    for i in range(obj_a.num_Items()):\n",
    "        temp_stack.push(obj_a.top())\n",
    "        obj_a.pop()\n",
    "    for i in range(temp_stack.num_Items()):\n",
    "        copy_stack.push(temp_stack.top())\n",
    "        temp_stack.pop()\n",
    "    return copy_stack\n",
    "\n",
    "problem04_stack.printStack()\n",
    "copied_stack = copyStack(problem04_stack)\n",
    "copied_stack.printStack()"
   ]
  },
  {
   "cell_type": "markdown",
   "metadata": {},
   "source": [
    "### Problem 05"
   ]
  },
  {
   "cell_type": "code",
   "execution_count": 46,
   "metadata": {},
   "outputs": [
    {
     "name": "stdout",
     "output_type": "stream",
     "text": [
      "True\n",
      "False\n",
      "False\n"
     ]
    }
   ],
   "source": [
    "def pranBalance(s) -> bool:\n",
    "    temp_stack = LinkedStack()\n",
    "    for i in range(len(s)):\n",
    "        if s[i] == '(':\n",
    "            temp_stack.push(s[i])\n",
    "        elif s[i] == ')':\n",
    "            if temp_stack.isEmpty(): return False\n",
    "            temp_stack.pop()\n",
    "    return temp_stack.isEmpty()\n",
    "\n",
    "print(pranBalance('(a)'))\n",
    "print(pranBalance('(a'))\n",
    "print(pranBalance(')a'))\n"
   ]
  },
  {
   "cell_type": "markdown",
   "metadata": {},
   "source": [
    "### Problem 06"
   ]
  },
  {
   "cell_type": "code",
   "execution_count": 64,
   "metadata": {},
   "outputs": [
    {
     "name": "stdout",
     "output_type": "stream",
     "text": [
      "True\n",
      "False\n",
      "False\n",
      "True\n"
     ]
    }
   ],
   "source": [
    "pair_map = {\n",
    "    '(': ')',\n",
    "    '{': '}',\n",
    "    '[': ']'\n",
    "}\n",
    "\n",
    "def pranBalance(s) -> bool:\n",
    "    temp_stack = LinkedStack()\n",
    "    for i in range(len(s)):\n",
    "        if s[i] in pair_map:\n",
    "            temp_stack.push(s[i])\n",
    "        elif s[i] in pair_map.values():\n",
    "            if temp_stack.isEmpty():\n",
    "                return False\n",
    "            if pair_map[temp_stack.top()] != s[i]:\n",
    "                return False\n",
    "            temp_stack.pop()\n",
    "        else:\n",
    "            continue  # 괄호 외 문자 무시\n",
    "    return temp_stack.isEmpty()\n",
    "\n",
    "print(pranBalance('[a]'))\n",
    "print(pranBalance('(a}'))\n",
    "print(pranBalance('({a)}'))\n",
    "print(pranBalance('[{({aba})}]'))\n"
   ]
  },
  {
   "cell_type": "markdown",
   "metadata": {},
   "source": [
    "### Problem 07\n",
    "101개\n",
    "\n",
    "### Problem 08\n",
    "49개"
   ]
  },
  {
   "cell_type": "markdown",
   "metadata": {},
   "source": [
    "# 3. Chapter 07 Queue\n",
    "## 3.1. List Queue"
   ]
  },
  {
   "cell_type": "code",
   "execution_count": 61,
   "metadata": {},
   "outputs": [
    {
     "name": "stdout",
     "output_type": "stream",
     "text": [
      "Queue from front: Tue 1234 Wed aaa \n"
     ]
    }
   ],
   "source": [
    "from DS.queue.listQueue import *\n",
    "\n",
    "q1 = ListQueue()\n",
    "q1.enqueue(\"Mon\")\n",
    "q1.enqueue(\"Tue\")\n",
    "q1.enqueue(1234)\n",
    "q1.enqueue(\"Wed\")\n",
    "q1.dequeue()\n",
    "q1.enqueue('aaa')\n",
    "q1.printQueue()\n",
    "\n",
    "# 코드 7-7"
   ]
  },
  {
   "cell_type": "markdown",
   "metadata": {},
   "source": [
    "## 3.2. Linked Queue"
   ]
  },
  {
   "cell_type": "code",
   "execution_count": 63,
   "metadata": {},
   "outputs": [
    {
     "name": "stdout",
     "output_type": "stream",
     "text": [
      "Queue from front: Tue 1234 Wed aaa \n"
     ]
    }
   ],
   "source": [
    "from DS.queue.linkedQueue import *\n",
    "\n",
    "q1 = LinkedQueue()\n",
    "q1.enqueue(\"Mon\")\n",
    "q1.enqueue(\"Tue\")\n",
    "q1.enqueue(1234)\n",
    "q1.enqueue(\"Wed\")\n",
    "q1.dequeue()\n",
    "q1.enqueue('aaa')\n",
    "q1.printQueue()\n",
    "\n",
    "# 코드 7-14"
   ]
  },
  {
   "cell_type": "markdown",
   "metadata": {},
   "source": [
    "## 3.3. Practice\n",
    "### Problem 01"
   ]
  },
  {
   "cell_type": "code",
   "execution_count": null,
   "metadata": {},
   "outputs": [
    {
     "name": "stdout",
     "output_type": "stream",
     "text": [
      "Queue from front: aaa Wed 1234 Tue \n"
     ]
    }
   ],
   "source": [
    "class ListQueueProblem01:\n",
    "\tdef __init__(self):\n",
    "\t\tself.__queue = []\n",
    "\tdef enqueue(self, x):\n",
    "\t\tself.__queue.insert(0, x)\n",
    "\tdef dequeue(self):\n",
    "\t\treturn self.__queue.pop() \n",
    "\tdef front(self):\n",
    "\t\tif self.isEmpty():\n",
    "\t\t\treturn None\n",
    "\t\telse:\n",
    "\t\t\treturn self.__queue[-1]\n",
    "\tdef isEmpty(self) -> bool:\n",
    "\t\treturn (len(self.__queue) == 0);\n",
    " \n",
    "\tdef dequeueAll(self):\n",
    "\t\tself.__queue.clear()\n",
    "\tdef printQueue(self):\n",
    "\t\tprint(\"Queue from front:\", end = ' ')\n",
    "\t\tfor i in range(len(self.__queue)):\n",
    "\t\t\tprint(self.__queue[i], end = ' ')\n",
    "\t\tprint()\n",
    "\n",
    "q1 = ListQueueProblem01()\n",
    "q1.enqueue(\"Mon\")\n",
    "q1.enqueue(\"Tue\")\n",
    "q1.enqueue(1234)\n",
    "q1.enqueue(\"Wed\")\n",
    "q1.dequeue()\n",
    "q1.enqueue('aaa')\n",
    "q1.printQueue()"
   ]
  },
  {
   "cell_type": "markdown",
   "metadata": {},
   "source": [
    "### Problem 02"
   ]
  },
  {
   "cell_type": "code",
   "execution_count": 6,
   "metadata": {},
   "outputs": [
    {
     "name": "stdout",
     "output_type": "stream",
     "text": [
      "False\n",
      "True\n"
     ]
    }
   ],
   "source": [
    "from DS.queue.linkedQueue import *\n",
    "\n",
    "def checkStringQueue(a):\n",
    "    i = 0\n",
    "    a_queue = LinkedQueue()\n",
    "    for i in range(len(a)):\n",
    "        if a[i] == '$': break\n",
    "        a_queue.enqueue(a[i])\n",
    "        \n",
    "    for j in range(i+1, len(a)):\n",
    "        if (a_queue.isEmpty()): return False\n",
    "        if (a_queue.front() != a[j]): return False\n",
    "        a_queue.dequeue()\n",
    "    if (a_queue.isEmpty()): return True\n",
    "    else: return False\n",
    "\n",
    "print(checkStringQueue('true$eurt'))\n",
    "print(checkStringQueue('true$true'))"
   ]
  },
  {
   "cell_type": "markdown",
   "metadata": {},
   "source": [
    "### Problem 03\n",
    "\n",
    "LinkedQueue 타입의 객ㅔ a의 내용을 그대로 또 다른 LinkedQueue 타입의 객체 b로 복사하는 코드를 작성하시오."
   ]
  },
  {
   "cell_type": "code",
   "execution_count": 14,
   "metadata": {},
   "outputs": [
    {
     "name": "stdout",
     "output_type": "stream",
     "text": [
      "Queue from front: 0 Mon 24 \n",
      "Queue from front: 0 Mon 24 \n"
     ]
    }
   ],
   "source": [
    "from DS.queue.linkedQueue import *\n",
    "importlib.reload(DS.queue.linkedQueue)\n",
    "from DS.queue.linkedQueue import *\n",
    "\n",
    "problem03_queue = LinkedQueue()\n",
    "problem03_queue.enqueue(0)\n",
    "problem03_queue.enqueue('Mon')\n",
    "problem03_queue.enqueue(24)\n",
    "\n",
    "def copyQueue(obj_a):\n",
    "    temp_queue = LinkedQueue()\n",
    "    for i in range(obj_a.num_Items()):\n",
    "        temp_queue.enqueue(obj_a.front())\n",
    "        obj_a.dequeue()\n",
    "    return temp_queue\n",
    "\n",
    "problem03_queue.printQueue()\n",
    "copied_queue = copyQueue(problem03_queue)\n",
    "copied_queue.printQueue()"
   ]
  },
  {
   "cell_type": "markdown",
   "metadata": {},
   "source": [
    "### Problem 06\n",
    "큐의 사이즈가 n일 때, enqueue()와 dequeue()의 수행 시간은 각각 어떻게 되겠는가?\n",
    "\n",
    "Θ(1)"
   ]
  },
  {
   "cell_type": "markdown",
   "metadata": {},
   "source": [
    "### Problem 07\n",
    "\n",
    "06번 문제의 deque를 원형 연결 리스트가 아닌 [코드 5-15]의 LinkedListBasic 객체를 사용한다면 enqueue()와 dequeue()의 수행 시간은 각각 어떻게 되겠는가?\n",
    "\n",
    "연결리스트의 앞을 front라 하고, 뒤를 tail로 하는 것을 가정한다. 앞을 대상으로 하는 enqueue()와 dequeue() Θ(1) 시간이 걸리며, 뒤를 대상으로 하는 enqueue()와 dequeue()는 Θ(n)이다."
   ]
  },
  {
   "cell_type": "markdown",
   "metadata": {},
   "source": [
    "### Problem 08\n",
    "\n",
    "06번 문제의 자료구조 Deque를 구현하는 클래스 Deque로 바꾸어 보시오. 필요한 매서드를 추가하시오. "
   ]
  },
  {
   "cell_type": "code",
   "execution_count": 19,
   "metadata": {},
   "outputs": [
    {
     "name": "stdout",
     "output_type": "stream",
     "text": [
      "Queue from front: 2 1 A B \n",
      "Queue from front: 2 1 A \n",
      "Queue from front: 1 A \n"
     ]
    }
   ],
   "source": [
    "class ListDeque:\n",
    "    def __init__(self):\n",
    "        self.__queue = []\n",
    "\n",
    "    def enqueue(self, x):\n",
    "        self.__queue.append(x)\n",
    "\n",
    "    def dequeue(self):\n",
    "        return self.__queue.pop(0) # .pop(0): 리스트의 첫 원소를 삭제한 후 원소 리턴\n",
    "\n",
    "    def front(self):\n",
    "        if self.isEmpty():\n",
    "            return None\n",
    "        else:\n",
    "            return self.__queue[0]\n",
    "\n",
    "    def isEmpty(self) -> bool:\n",
    "        return (len(self.__queue) == 0);\n",
    " \n",
    "    def dequeueAll(self):\n",
    "        self.__queue.clear()\n",
    "\n",
    "    def printQueue(self):\n",
    "        print(\"Queue from front:\", end = ' ')\n",
    "        for i in range(len(self.__queue)):\n",
    "            print(self.__queue[i], end = ' ')\n",
    "        print()\n",
    "\n",
    "    def enqueueTail(self, x):\n",
    "        self.__queue.append(x)\n",
    "    def enqueueFront(self, x):\n",
    "        self.__queue.insert(0,x)\n",
    "    def dequeueFront(self):\n",
    "        self.__queue.pop(0)\n",
    "    def dequeueTail(self):\n",
    "        self.__queue.pop()\n",
    "\n",
    "Obj_Deque = ListDeque()\n",
    "Obj_Deque.enqueueFront(1)\n",
    "Obj_Deque.enqueueFront(2)\n",
    "Obj_Deque.enqueueTail('A')\n",
    "Obj_Deque.enqueueTail('B')\n",
    "Obj_Deque.printQueue()\n",
    "Obj_Deque.dequeueTail()\n",
    "Obj_Deque.printQueue()\n",
    "Obj_Deque.dequeueFront()\n",
    "Obj_Deque.printQueue()\n"
   ]
  },
  {
   "cell_type": "markdown",
   "metadata": {},
   "source": []
  }
 ],
 "metadata": {
  "kernelspec": {
   "display_name": "Python 3",
   "language": "python",
   "name": "python3"
  },
  "language_info": {
   "codemirror_mode": {
    "name": "ipython",
    "version": 3
   },
   "file_extension": ".py",
   "mimetype": "text/x-python",
   "name": "python",
   "nbconvert_exporter": "python",
   "pygments_lexer": "ipython3",
   "version": "3.12.6"
  }
 },
 "nbformat": 4,
 "nbformat_minor": 2
}
