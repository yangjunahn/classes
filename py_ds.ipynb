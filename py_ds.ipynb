{
 "cells": [
  {
   "cell_type": "markdown",
   "metadata": {},
   "source": [
    "# 1. Chapter 05 List\n",
    "## 1.1. Linked List"
   ]
  },
  {
   "cell_type": "code",
   "execution_count": 1,
   "metadata": {},
   "outputs": [
    {
     "name": "stdout",
     "output_type": "stream",
     "text": [
      "count(3): 2\n",
      "get(2): 3\n",
      "2 3 3 4 30 20 \n"
     ]
    }
   ],
   "source": [
    "from DS.list.linkedListBasic import *\n",
    "\n",
    "list = LinkedListBasic()\n",
    "list.append(30); list.insert(0, 20)\n",
    "a = LinkedListBasic()\n",
    "a.append(4); a.append(3); a.append(3); a.append(2); a.append(1)\n",
    "list.extend(a)\n",
    "list.reverse()\n",
    "list.pop(0)\n",
    "print(\"count(3):\", list.count(3))\n",
    "print(\"get(2):\", list.get(2))\n",
    "list.printList()\n",
    "\n",
    "# 코드 5-16"
   ]
  },
  {
   "cell_type": "markdown",
   "metadata": {},
   "source": [
    "## 1.2. Circular Linked List"
   ]
  },
  {
   "cell_type": "code",
   "execution_count": 2,
   "metadata": {},
   "outputs": [
    {
     "name": "stdout",
     "output_type": "stream",
     "text": [
      "count(3): 2\n",
      "get(2): 3\n",
      "2 3 3 4 30 20 \n"
     ]
    }
   ],
   "source": [
    "from DS.list.circularLinkedList import *\n",
    "\n",
    "list = CircularLinkedList()\n",
    "list.append(30); list.insert(0, 20)\n",
    "a = [4, 3, 3, 2, 1]\n",
    "list.extend(a)\n",
    "list.reverse()\n",
    "list.pop(0)\n",
    "print(\"count(3):\", list.count(3))\n",
    "print(\"get(2):\", list.get(2))\n",
    "list.printList()\n",
    "\n",
    "# 코드 5-23"
   ]
  },
  {
   "cell_type": "markdown",
   "metadata": {},
   "source": [
    "## 1.3. Circular Doubly Linked List"
   ]
  },
  {
   "cell_type": "code",
   "execution_count": 3,
   "metadata": {},
   "outputs": [
    {
     "name": "stdout",
     "output_type": "stream",
     "text": [
      "count(3): 2\n",
      "get(2): 3\n",
      "2 3 3 4 30 20 \n"
     ]
    }
   ],
   "source": [
    "from DS.list.circularDoublyLinkedList import *\n",
    "\n",
    "list = CircularDoublyLinkedList()\n",
    "list.append(30); list.insert(0, 20)\n",
    "a = [4, 3, 3, 2, 1]\n",
    "list.extend(a)\n",
    "list.reverse()\n",
    "list.pop(0)\n",
    "print(\"count(3):\", list.count(3))\n",
    "print(\"get(2):\", list.get(2))\n",
    "list.printList()\n",
    "\n",
    "# 코드 5-26"
   ]
  },
  {
   "cell_type": "markdown",
   "metadata": {},
   "source": [
    "## 1.4. Practice\n",
    "### Problem 02, 03, 05, 06, 08, 09\n",
    "\n",
    "see linkedListBasic.py"
   ]
  },
  {
   "cell_type": "code",
   "execution_count": 4,
   "metadata": {},
   "outputs": [
    {
     "name": "stdout",
     "output_type": "stream",
     "text": [
      "contains(3): False\n",
      "print interval (0,2):\n",
      "4 6 7 \n",
      "number of items: 6\n",
      "number of items: 5\n",
      "c 7 8 \n",
      "c 7 8 8 a \n",
      "True\n",
      "3\n",
      "5\n"
     ]
    }
   ],
   "source": [
    "import importlib\n",
    "import DS.list.linkedListBasic\n",
    "importlib.reload(DS.list.linkedListBasic)\n",
    "from DS.list.linkedListBasic import *\n",
    "\n",
    "a02 = LinkedListBasic()\n",
    "a02.append(4); a02.append(6); a02.append(7); a02.append(8); a02.append(8); a02.append('a'); \n",
    "\n",
    "print(\"contains(3):\", a02.contains(3))\n",
    "print(\"print interval (0,2):\")\n",
    "a02.printInterval(0,2)\n",
    "\n",
    "print(\"number of items:\", a02.calculate_nItems())\n",
    "a02.pop(0)\n",
    "print(\"number of items:\", a02.calculate_nItems_recursive())\n",
    "\n",
    "a02.insert(1, 'b'); a02.insert(2,'c')\n",
    "a02.pop(0,2)\n",
    "a02.printInterval(0,2)\n",
    "\n",
    "a02.printList()\n",
    "print(a02.theSameList(7, 8))\n",
    "\n",
    "print(a02.lastIndexOf(8))\n",
    "a02.append(8)\n",
    "print(a02.lastIndexOf(8))\n",
    "\n",
    "# 코드 5-16"
   ]
  },
  {
   "cell_type": "markdown",
   "metadata": {},
   "source": [
    "### Problem 04\n",
    "\n",
    "see circularLinked:ist.py"
   ]
  },
  {
   "cell_type": "code",
   "execution_count": 5,
   "metadata": {},
   "outputs": [
    {
     "name": "stdout",
     "output_type": "stream",
     "text": [
      "6 7 8 \n",
      "4 6 7 8 8 a 4 6 4 \n"
     ]
    },
    {
     "data": {
      "text/plain": [
       "5"
      ]
     },
     "execution_count": 5,
     "metadata": {},
     "output_type": "execute_result"
    }
   ],
   "source": [
    "import DS.list.circularLinkedList\n",
    "importlib.reload(DS.list.circularLinkedList)\n",
    "from DS.list.circularLinkedList import *\n",
    "\n",
    "a03 = CircularLinkedList()\n",
    "a03.append(4); a03.append(6); a03.append(7); a03.append(8); a03.append(8); a03.append('a'); \n",
    "\n",
    "a03.printInterval(1,3)\n",
    "\n",
    "a03.append(4); a03.append(6); a03.append(4); \n",
    "a03.printList()\n",
    "a03.lastIndexOf(8)"
   ]
  },
  {
   "cell_type": "markdown",
   "metadata": {},
   "source": [
    "### Problem 07"
   ]
  },
  {
   "cell_type": "code",
   "execution_count": 6,
   "metadata": {},
   "outputs": [
    {
     "name": "stdout",
     "output_type": "stream",
     "text": [
      "\n",
      "1 3 5 9 10 14 \n",
      "1 3 5 9 10 14 15 \n",
      "1 3 4 5 9 10 14 15 \n"
     ]
    }
   ],
   "source": [
    "import DS.list.circularDoublyLinkedList\n",
    "importlib.reload(DS.list.circularDoublyLinkedList)\n",
    "from DS.list.circularDoublyLinkedList import *\n",
    "\n",
    "a07 = CircularDoublyLinkedList()\n",
    "a07.printList()\n",
    "a07.append(1); a07.append(3); a07.append(5); a07.append(9); a07.append(10); a07.append(14); \n",
    "a07.printList()\n",
    "a07.add(15)\n",
    "a07.printList()\n",
    "a07.add(4)\n",
    "a07.printList()\n"
   ]
  },
  {
   "cell_type": "markdown",
   "metadata": {},
   "source": [
    "# 2. Chapter 06 Stack\n",
    "## 2.1. List Stack"
   ]
  },
  {
   "cell_type": "code",
   "execution_count": 7,
   "metadata": {},
   "outputs": [
    {
     "name": "stdout",
     "output_type": "stream",
     "text": [
      "None\n",
      "Top is 200\n",
      "Stack from top: Monday 100 \n",
      "isEmpty? False\n"
     ]
    }
   ],
   "source": [
    "from DS.stack.listStack import *\n",
    "importlib.reload(DS.stack.listStack)\n",
    "from DS.stack.listStack import *\n",
    "\n",
    "st1 = ListStack()\n",
    "print(st1.top())\t# No effect\n",
    "st1.push(100)\n",
    "st1.push(200)\n",
    "print(\"Top is\", st1.top())\n",
    "st1.pop()\n",
    "st1.push('Monday')\n",
    "st1.printStack()\n",
    "print('isEmpty?', st1.isEmpty())\n",
    "\n",
    "# 코드 6-7"
   ]
  },
  {
   "cell_type": "markdown",
   "metadata": {},
   "source": [
    "## 2.2. Linked Stack"
   ]
  },
  {
   "cell_type": "code",
   "execution_count": 37,
   "metadata": {},
   "outputs": [
    {
     "name": "stdout",
     "output_type": "stream",
     "text": [
      "None\n",
      "Top is 200\n",
      "Stack from top:Monday100\n",
      "isEmpty? False\n"
     ]
    }
   ],
   "source": [
    "from DS.stack.linkedStack import *\n",
    "importlib.reload(DS.stack.linkedStack)\n",
    "from DS.stack.linkedStack import *\n",
    "\n",
    "st2 = LinkedStack()\n",
    "print(st2.top())\t# No effect\n",
    "st2.push(100)\n",
    "st2.push(200)\n",
    "print(\"Top is\", st2.top())\n",
    "st2.pop()\n",
    "st2.push('Monday')\n",
    "st2.printStack()\n",
    "print('isEmpty?', st2.isEmpty())\n",
    "\n",
    "# 코드 6-7"
   ]
  },
  {
   "cell_type": "markdown",
   "metadata": {},
   "source": [
    "## 2.3. Practice\n",
    "### Problem 02"
   ]
  },
  {
   "cell_type": "code",
   "execution_count": 27,
   "metadata": {},
   "outputs": [
    {
     "name": "stdout",
     "output_type": "stream",
     "text": [
      "None\n",
      "Top is 200\n",
      "Stack from top: 100 Monday \n",
      "isEmpty? False\n"
     ]
    }
   ],
   "source": [
    "from DS.stack.listStack import *\n",
    "importlib.reload(DS.stack.listStack)\n",
    "from DS.stack.listStack import *\n",
    "\n",
    "st1 = ListStack()\n",
    "print(st1.top_front())\t# No effect\n",
    "st1.push_front(100)\n",
    "st1.push_front(200)\n",
    "print(\"Top is\", st1.top_front())\n",
    "st1.pop_front()\n",
    "st1.push_front('Monday')\n",
    "st1.printStack()\n",
    "print('isEmpty?', st1.isEmpty())"
   ]
  },
  {
   "cell_type": "markdown",
   "metadata": {},
   "source": [
    "### Problem 03"
   ]
  },
  {
   "cell_type": "code",
   "execution_count": 28,
   "metadata": {},
   "outputs": [
    {
     "name": "stdout",
     "output_type": "stream",
     "text": [
      "True\n",
      "False\n"
     ]
    }
   ],
   "source": [
    "def checkString(a):\n",
    "    i = 0\n",
    "    a_stack = LinkedStack()\n",
    "    for i in range(len(a)):\n",
    "        if a[i] == '$': break\n",
    "        a_stack.push(a[i])\n",
    "        \n",
    "    for j in range(i+1, len(a)):\n",
    "        if (a_stack.isEmpty()): return False\n",
    "        if (a_stack.top() != a[j]): return False\n",
    "        a_stack.pop()\n",
    "    if (a_stack.isEmpty()): return True\n",
    "    else: return False\n",
    "\n",
    "print(checkString('true$eurt'))\n",
    "print(checkString('true$true'))"
   ]
  },
  {
   "cell_type": "markdown",
   "metadata": {},
   "source": [
    "### Problem 04"
   ]
  },
  {
   "cell_type": "code",
   "execution_count": 42,
   "metadata": {},
   "outputs": [
    {
     "name": "stdout",
     "output_type": "stream",
     "text": [
      "Stack from top:24Mon0\n",
      "Stack from top:24Mon0\n"
     ]
    }
   ],
   "source": [
    "problem04_stack = LinkedStack()\n",
    "problem04_stack.push(0)\n",
    "problem04_stack.push('Mon')\n",
    "problem04_stack.push(24)\n",
    "\n",
    "def copyStack(obj_a):\n",
    "    temp_stack = LinkedStack()\n",
    "    copy_stack = LinkedStack()\n",
    "    for i in range(obj_a.num_Items()):\n",
    "        temp_stack.push(obj_a.top())\n",
    "        obj_a.pop()\n",
    "    for i in range(temp_stack.num_Items()):\n",
    "        copy_stack.push(temp_stack.top())\n",
    "        temp_stack.pop()\n",
    "    return copy_stack\n",
    "\n",
    "problem04_stack.printStack()\n",
    "copied_stack = copyStack(problem04_stack)\n",
    "copied_stack.printStack()"
   ]
  },
  {
   "cell_type": "markdown",
   "metadata": {},
   "source": [
    "### Problem 05"
   ]
  },
  {
   "cell_type": "code",
   "execution_count": 46,
   "metadata": {},
   "outputs": [
    {
     "name": "stdout",
     "output_type": "stream",
     "text": [
      "True\n",
      "False\n",
      "False\n"
     ]
    }
   ],
   "source": [
    "def pranBalance(s) -> bool:\n",
    "    temp_stack = LinkedStack()\n",
    "    for i in range(len(s)):\n",
    "        if s[i] == '(':\n",
    "            temp_stack.push(s[i])\n",
    "        elif s[i] == ')':\n",
    "            if temp_stack.isEmpty(): return False\n",
    "            temp_stack.pop()\n",
    "    return temp_stack.isEmpty()\n",
    "\n",
    "print(pranBalance('(a)'))\n",
    "print(pranBalance('(a'))\n",
    "print(pranBalance(')a'))\n"
   ]
  },
  {
   "cell_type": "markdown",
   "metadata": {},
   "source": [
    "### Problem 06"
   ]
  },
  {
   "cell_type": "code",
   "execution_count": 55,
   "metadata": {},
   "outputs": [
    {
     "name": "stdout",
     "output_type": "stream",
     "text": [
      "False\n",
      "False\n",
      "False\n"
     ]
    }
   ],
   "source": [
    "def pranBalance(s) -> bool:\n",
    "    temp_stack = LinkedStack()\n",
    "    for i in range(len(s)):\n",
    "        if s[i] == '(' or s[i] == '{' or s[i] == '[':\n",
    "            temp_stack.push(s[i])\n",
    "        elif s[i] == ')' or s[i] == '}' or s[i] == ']':\n",
    "            if temp_stack.isEmpty(): return False\n",
    "            if temp_stack.top() != s[i]: return False\n",
    "            temp_stack.pop()\n",
    "    return temp_stack.isEmpty()\n",
    "\n",
    "print(pranBalance('[a]'))\n",
    "print(pranBalance('(a}'))\n",
    "print(pranBalance('({a)}'))\n"
   ]
  },
  {
   "cell_type": "code",
   "execution_count": null,
   "metadata": {},
   "outputs": [],
   "source": []
  }
 ],
 "metadata": {
  "kernelspec": {
   "display_name": "Python 3",
   "language": "python",
   "name": "python3"
  },
  "language_info": {
   "codemirror_mode": {
    "name": "ipython",
    "version": 3
   },
   "file_extension": ".py",
   "mimetype": "text/x-python",
   "name": "python",
   "nbconvert_exporter": "python",
   "pygments_lexer": "ipython3",
   "version": "3.12.6"
  }
 },
 "nbformat": 4,
 "nbformat_minor": 2
}
