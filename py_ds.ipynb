{
 "cells": [
  {
   "cell_type": "markdown",
   "metadata": {},
   "source": [
    "# 1. Chapter 05 List\n",
    "## 1.1. Linked List"
   ]
  },
  {
   "cell_type": "code",
   "execution_count": 1,
   "metadata": {},
   "outputs": [
    {
     "name": "stdout",
     "output_type": "stream",
     "text": [
      "count(3): 2\n",
      "get(2): 3\n",
      "2 3 3 4 30 20 \n"
     ]
    }
   ],
   "source": [
    "from DS.list.linkedListBasic import *\n",
    "\n",
    "list = LinkedListBasic()\n",
    "list.append(30); list.insert(0, 20)\n",
    "a = LinkedListBasic()\n",
    "a.append(4); a.append(3); a.append(3); a.append(2); a.append(1)\n",
    "list.extend(a)\n",
    "list.reverse()\n",
    "list.pop(0)\n",
    "print(\"count(3):\", list.count(3))\n",
    "print(\"get(2):\", list.get(2))\n",
    "list.printList()\n",
    "\n",
    "# 코드 5-16"
   ]
  },
  {
   "cell_type": "markdown",
   "metadata": {},
   "source": [
    "## 1.2. Circular Linked List"
   ]
  },
  {
   "cell_type": "code",
   "execution_count": 2,
   "metadata": {},
   "outputs": [
    {
     "name": "stdout",
     "output_type": "stream",
     "text": [
      "count(3): 2\n",
      "get(2): 3\n",
      "2 3 3 4 30 20 \n"
     ]
    }
   ],
   "source": [
    "from DS.list.circularLinkedList import *\n",
    "\n",
    "list = CircularLinkedList()\n",
    "list.append(30); list.insert(0, 20)\n",
    "a = [4, 3, 3, 2, 1]\n",
    "list.extend(a)\n",
    "list.reverse()\n",
    "list.pop(0)\n",
    "print(\"count(3):\", list.count(3))\n",
    "print(\"get(2):\", list.get(2))\n",
    "list.printList()\n",
    "\n",
    "# 코드 5-23"
   ]
  },
  {
   "cell_type": "markdown",
   "metadata": {},
   "source": [
    "## 1.3. Circular Doubly Linked List"
   ]
  },
  {
   "cell_type": "code",
   "execution_count": 3,
   "metadata": {},
   "outputs": [
    {
     "name": "stdout",
     "output_type": "stream",
     "text": [
      "count(3): 2\n",
      "get(2): 3\n",
      "2 3 3 4 30 20 \n"
     ]
    }
   ],
   "source": [
    "from DS.list.circularDoublyLinkedList import *\n",
    "\n",
    "list = CircularDoublyLinkedList()\n",
    "list.append(30); list.insert(0, 20)\n",
    "a = [4, 3, 3, 2, 1]\n",
    "list.extend(a)\n",
    "list.reverse()\n",
    "list.pop(0)\n",
    "print(\"count(3):\", list.count(3))\n",
    "print(\"get(2):\", list.get(2))\n",
    "list.printList()\n",
    "\n",
    "# 코드 5-26"
   ]
  },
  {
   "cell_type": "markdown",
   "metadata": {},
   "source": [
    "## 1.4. Practice\n",
    "### Problem 02, 03, 05, 06, 08, 09\n",
    "\n",
    "see linkedListBasic.py"
   ]
  },
  {
   "cell_type": "code",
   "execution_count": 8,
   "metadata": {},
   "outputs": [
    {
     "name": "stdout",
     "output_type": "stream",
     "text": [
      "contains(3): False\n",
      "print interval (0,2):\n",
      "4 6 7 \n",
      "number of items: 6\n",
      "number of items: 5\n",
      "c 7 8 \n",
      "c 7 8 8 a \n",
      "True\n",
      "3\n",
      "5\n"
     ]
    }
   ],
   "source": [
    "import importlib\n",
    "import DS.list.linkedListBasic\n",
    "importlib.reload(DS.list.linkedListBasic)\n",
    "from DS.list.linkedListBasic import *\n",
    "\n",
    "a02 = LinkedListBasic()\n",
    "a02.append(4); a02.append(6); a02.append(7); a02.append(8); a02.append(8); a02.append('a'); \n",
    "\n",
    "print(\"contains(3):\", a02.contains(3))\n",
    "print(\"print interval (0,2):\")\n",
    "a02.printInterval(0,2)\n",
    "\n",
    "print(\"number of items:\", a02.calculate_nItems())\n",
    "a02.pop(0)\n",
    "print(\"number of items:\", a02.calculate_nItems_recursive())\n",
    "\n",
    "a02.insert(1, 'b'); a02.insert(2,'c')\n",
    "a02.pop(0,2)\n",
    "a02.printInterval(0,2)\n",
    "\n",
    "a02.printList()\n",
    "print(a02.theSameList(7, 8))\n",
    "\n",
    "print(a02.lastIndexOf(8))\n",
    "a02.append(8)\n",
    "print(a02.lastIndexOf(8))\n",
    "\n",
    "# 코드 5-16"
   ]
  },
  {
   "cell_type": "markdown",
   "metadata": {},
   "source": [
    "### Problem 04\n",
    "\n",
    "see circularLinked:ist.py"
   ]
  },
  {
   "cell_type": "code",
   "execution_count": 5,
   "metadata": {},
   "outputs": [
    {
     "name": "stdout",
     "output_type": "stream",
     "text": [
      "6 7 8 \n",
      "4 6 7 8 8 a 4 6 4 \n"
     ]
    },
    {
     "data": {
      "text/plain": [
       "5"
      ]
     },
     "execution_count": 5,
     "metadata": {},
     "output_type": "execute_result"
    }
   ],
   "source": [
    "import DS.list.circularLinkedList\n",
    "importlib.reload(DS.list.circularLinkedList)\n",
    "from DS.list.circularLinkedList import *\n",
    "\n",
    "a03 = CircularLinkedList()\n",
    "a03.append(4); a03.append(6); a03.append(7); a03.append(8); a03.append(8); a03.append('a'); \n",
    "\n",
    "a03.printInterval(1,3)\n",
    "\n",
    "a03.append(4); a03.append(6); a03.append(4); \n",
    "a03.printList()\n",
    "a03.lastIndexOf(8)"
   ]
  },
  {
   "cell_type": "markdown",
   "metadata": {},
   "source": [
    "### Problem 07"
   ]
  },
  {
   "cell_type": "code",
   "execution_count": 6,
   "metadata": {},
   "outputs": [
    {
     "name": "stdout",
     "output_type": "stream",
     "text": [
      "\n",
      "1 3 5 9 10 14 \n",
      "1 3 5 9 10 14 15 \n",
      "1 3 4 5 9 10 14 15 \n"
     ]
    }
   ],
   "source": [
    "import DS.list.circularDoublyLinkedList\n",
    "importlib.reload(DS.list.circularDoublyLinkedList)\n",
    "from DS.list.circularDoublyLinkedList import *\n",
    "\n",
    "a07 = CircularDoublyLinkedList()\n",
    "a07.printList()\n",
    "a07.append(1); a07.append(3); a07.append(5); a07.append(9); a07.append(10); a07.append(14); \n",
    "a07.printList()\n",
    "a07.add(15)\n",
    "a07.printList()\n",
    "a07.add(4)\n",
    "a07.printList()\n"
   ]
  },
  {
   "cell_type": "markdown",
   "metadata": {},
   "source": [
    "# 2. Chapter 06 Stack\n",
    "## 2.1. List Stack"
   ]
  },
  {
   "cell_type": "code",
   "execution_count": 7,
   "metadata": {},
   "outputs": [
    {
     "name": "stdout",
     "output_type": "stream",
     "text": [
      "None\n",
      "Top is 200\n",
      "Stack from top: Monday 100 \n",
      "isEmpty? False\n"
     ]
    }
   ],
   "source": [
    "from DS.stack.listStack import *\n",
    "importlib.reload(DS.stack.listStack)\n",
    "from DS.stack.listStack import *\n",
    "\n",
    "st1 = ListStack()\n",
    "print(st1.top())\t# No effect\n",
    "st1.push(100)\n",
    "st1.push(200)\n",
    "print(\"Top is\", st1.top())\n",
    "st1.pop()\n",
    "st1.push('Monday')\n",
    "st1.printStack()\n",
    "print('isEmpty?', st1.isEmpty())\n",
    "\n",
    "# 코드 6-7"
   ]
  },
  {
   "cell_type": "markdown",
   "metadata": {},
   "source": [
    "## 2.2. Linked Stack"
   ]
  },
  {
   "cell_type": "code",
   "execution_count": 37,
   "metadata": {},
   "outputs": [
    {
     "name": "stdout",
     "output_type": "stream",
     "text": [
      "None\n",
      "Top is 200\n",
      "Stack from top:Monday100\n",
      "isEmpty? False\n"
     ]
    }
   ],
   "source": [
    "from DS.stack.linkedStack import *\n",
    "importlib.reload(DS.stack.linkedStack)\n",
    "from DS.stack.linkedStack import *\n",
    "\n",
    "st2 = LinkedStack()\n",
    "print(st2.top())\t# No effect\n",
    "st2.push(100)\n",
    "st2.push(200)\n",
    "print(\"Top is\", st2.top())\n",
    "st2.pop()\n",
    "st2.push('Monday')\n",
    "st2.printStack()\n",
    "print('isEmpty?', st2.isEmpty())\n",
    "\n",
    "# 코드 6-7"
   ]
  },
  {
   "cell_type": "markdown",
   "metadata": {},
   "source": [
    "## 2.3. Practice\n",
    "### Problem 02"
   ]
  },
  {
   "cell_type": "code",
   "execution_count": 27,
   "metadata": {},
   "outputs": [
    {
     "name": "stdout",
     "output_type": "stream",
     "text": [
      "None\n",
      "Top is 200\n",
      "Stack from top: 100 Monday \n",
      "isEmpty? False\n"
     ]
    }
   ],
   "source": [
    "from DS.stack.listStack import *\n",
    "importlib.reload(DS.stack.listStack)\n",
    "from DS.stack.listStack import *\n",
    "\n",
    "st1 = ListStack()\n",
    "print(st1.top_front())\t# No effect\n",
    "st1.push_front(100)\n",
    "st1.push_front(200)\n",
    "print(\"Top is\", st1.top_front())\n",
    "st1.pop_front()\n",
    "st1.push_front('Monday')\n",
    "st1.printStack()\n",
    "print('isEmpty?', st1.isEmpty())"
   ]
  },
  {
   "cell_type": "markdown",
   "metadata": {},
   "source": [
    "### Problem 03"
   ]
  },
  {
   "cell_type": "code",
   "execution_count": 28,
   "metadata": {},
   "outputs": [
    {
     "name": "stdout",
     "output_type": "stream",
     "text": [
      "True\n",
      "False\n"
     ]
    }
   ],
   "source": [
    "def checkString(a):\n",
    "    i = 0\n",
    "    a_stack = LinkedStack()\n",
    "    for i in range(len(a)):\n",
    "        if a[i] == '$': break\n",
    "        a_stack.push(a[i])\n",
    "        \n",
    "    for j in range(i+1, len(a)):\n",
    "        if (a_stack.isEmpty()): return False\n",
    "        if (a_stack.top() != a[j]): return False\n",
    "        a_stack.pop()\n",
    "    if (a_stack.isEmpty()): return True\n",
    "    else: return False\n",
    "\n",
    "print(checkString('true$eurt'))\n",
    "print(checkString('true$true'))"
   ]
  },
  {
   "cell_type": "markdown",
   "metadata": {},
   "source": [
    "### Problem 04"
   ]
  },
  {
   "cell_type": "code",
   "execution_count": 42,
   "metadata": {},
   "outputs": [
    {
     "name": "stdout",
     "output_type": "stream",
     "text": [
      "Stack from top:24Mon0\n",
      "Stack from top:24Mon0\n"
     ]
    }
   ],
   "source": [
    "problem04_stack = LinkedStack()\n",
    "problem04_stack.push(0)\n",
    "problem04_stack.push('Mon')\n",
    "problem04_stack.push(24)\n",
    "\n",
    "def copyStack(obj_a):\n",
    "    temp_stack = LinkedStack()\n",
    "    copy_stack = LinkedStack()\n",
    "    for i in range(obj_a.num_Items()):\n",
    "        temp_stack.push(obj_a.top())\n",
    "        obj_a.pop()\n",
    "    for i in range(temp_stack.num_Items()):\n",
    "        copy_stack.push(temp_stack.top())\n",
    "        temp_stack.pop()\n",
    "    return copy_stack\n",
    "\n",
    "problem04_stack.printStack()\n",
    "copied_stack = copyStack(problem04_stack)\n",
    "copied_stack.printStack()"
   ]
  },
  {
   "cell_type": "markdown",
   "metadata": {},
   "source": [
    "### Problem 05"
   ]
  },
  {
   "cell_type": "code",
   "execution_count": 46,
   "metadata": {},
   "outputs": [
    {
     "name": "stdout",
     "output_type": "stream",
     "text": [
      "True\n",
      "False\n",
      "False\n"
     ]
    }
   ],
   "source": [
    "def pranBalance(s) -> bool:\n",
    "    temp_stack = LinkedStack()\n",
    "    for i in range(len(s)):\n",
    "        if s[i] == '(':\n",
    "            temp_stack.push(s[i])\n",
    "        elif s[i] == ')':\n",
    "            if temp_stack.isEmpty(): return False\n",
    "            temp_stack.pop()\n",
    "    return temp_stack.isEmpty()\n",
    "\n",
    "print(pranBalance('(a)'))\n",
    "print(pranBalance('(a'))\n",
    "print(pranBalance(')a'))\n"
   ]
  },
  {
   "cell_type": "markdown",
   "metadata": {},
   "source": [
    "### Problem 06"
   ]
  },
  {
   "cell_type": "code",
   "execution_count": 64,
   "metadata": {},
   "outputs": [
    {
     "name": "stdout",
     "output_type": "stream",
     "text": [
      "True\n",
      "False\n",
      "False\n",
      "True\n"
     ]
    }
   ],
   "source": [
    "pair_map = {\n",
    "    '(': ')',\n",
    "    '{': '}',\n",
    "    '[': ']'\n",
    "}\n",
    "\n",
    "def pranBalance(s) -> bool:\n",
    "    temp_stack = LinkedStack()\n",
    "    for i in range(len(s)):\n",
    "        if s[i] in pair_map:\n",
    "            temp_stack.push(s[i])\n",
    "        elif s[i] in pair_map.values():\n",
    "            if temp_stack.isEmpty():\n",
    "                return False\n",
    "            if pair_map[temp_stack.top()] != s[i]:\n",
    "                return False\n",
    "            temp_stack.pop()\n",
    "        else:\n",
    "            continue  # 괄호 외 문자 무시\n",
    "    return temp_stack.isEmpty()\n",
    "\n",
    "print(pranBalance('[a]'))\n",
    "print(pranBalance('(a}'))\n",
    "print(pranBalance('({a)}'))\n",
    "print(pranBalance('[{({aba})}]'))\n"
   ]
  },
  {
   "cell_type": "markdown",
   "metadata": {},
   "source": [
    "### Problem 07\n",
    "101개\n",
    "\n",
    "### Problem 08\n",
    "49개"
   ]
  },
  {
   "cell_type": "markdown",
   "metadata": {},
   "source": [
    "# 3. Chapter 07 Queue\n",
    "## 3.1. List Queue"
   ]
  },
  {
   "cell_type": "code",
   "execution_count": 61,
   "metadata": {},
   "outputs": [
    {
     "name": "stdout",
     "output_type": "stream",
     "text": [
      "Queue from front: Tue 1234 Wed aaa \n"
     ]
    }
   ],
   "source": [
    "from DS.queue.listQueue import *\n",
    "\n",
    "q1 = ListQueue()\n",
    "q1.enqueue(\"Mon\")\n",
    "q1.enqueue(\"Tue\")\n",
    "q1.enqueue(1234)\n",
    "q1.enqueue(\"Wed\")\n",
    "q1.dequeue()\n",
    "q1.enqueue('aaa')\n",
    "q1.printQueue()\n",
    "\n",
    "# 코드 7-7"
   ]
  },
  {
   "cell_type": "markdown",
   "metadata": {},
   "source": [
    "## 3.2. Linked Queue"
   ]
  },
  {
   "cell_type": "code",
   "execution_count": 63,
   "metadata": {},
   "outputs": [
    {
     "name": "stdout",
     "output_type": "stream",
     "text": [
      "Queue from front: Tue 1234 Wed aaa \n"
     ]
    }
   ],
   "source": [
    "from DS.queue.linkedQueue import *\n",
    "\n",
    "q1 = LinkedQueue()\n",
    "q1.enqueue(\"Mon\")\n",
    "q1.enqueue(\"Tue\")\n",
    "q1.enqueue(1234)\n",
    "q1.enqueue(\"Wed\")\n",
    "q1.dequeue()\n",
    "q1.enqueue('aaa')\n",
    "q1.printQueue()\n",
    "\n",
    "# 코드 7-14"
   ]
  },
  {
   "cell_type": "markdown",
   "metadata": {},
   "source": [
    "## 3.3. Practice\n",
    "### Problem 01"
   ]
  },
  {
   "cell_type": "code",
   "execution_count": null,
   "metadata": {},
   "outputs": [
    {
     "name": "stdout",
     "output_type": "stream",
     "text": [
      "Queue from front: aaa Wed 1234 Tue \n"
     ]
    }
   ],
   "source": [
    "class ListQueueProblem01:\n",
    "\tdef __init__(self):\n",
    "\t\tself.__queue = []\n",
    "\tdef enqueue(self, x):\n",
    "\t\tself.__queue.insert(0, x)\n",
    "\tdef dequeue(self):\n",
    "\t\treturn self.__queue.pop() \n",
    "\tdef front(self):\n",
    "\t\tif self.isEmpty():\n",
    "\t\t\treturn None\n",
    "\t\telse:\n",
    "\t\t\treturn self.__queue[-1]\n",
    "\tdef isEmpty(self) -> bool:\n",
    "\t\treturn (len(self.__queue) == 0);\n",
    " \n",
    "\tdef dequeueAll(self):\n",
    "\t\tself.__queue.clear()\n",
    "\tdef printQueue(self):\n",
    "\t\tprint(\"Queue from front:\", end = ' ')\n",
    "\t\tfor i in range(len(self.__queue)):\n",
    "\t\t\tprint(self.__queue[i], end = ' ')\n",
    "\t\tprint()\n",
    "\n",
    "q1 = ListQueueProblem01()\n",
    "q1.enqueue(\"Mon\")\n",
    "q1.enqueue(\"Tue\")\n",
    "q1.enqueue(1234)\n",
    "q1.enqueue(\"Wed\")\n",
    "q1.dequeue()\n",
    "q1.enqueue('aaa')\n",
    "q1.printQueue()"
   ]
  },
  {
   "cell_type": "markdown",
   "metadata": {},
   "source": [
    "### Problem 02"
   ]
  },
  {
   "cell_type": "code",
   "execution_count": 6,
   "metadata": {},
   "outputs": [
    {
     "name": "stdout",
     "output_type": "stream",
     "text": [
      "False\n",
      "True\n"
     ]
    }
   ],
   "source": [
    "from DS.queue.linkedQueue import *\n",
    "\n",
    "def checkStringQueue(a):\n",
    "    i = 0\n",
    "    a_queue = LinkedQueue()\n",
    "    for i in range(len(a)):\n",
    "        if a[i] == '$': break\n",
    "        a_queue.enqueue(a[i])\n",
    "        \n",
    "    for j in range(i+1, len(a)):\n",
    "        if (a_queue.isEmpty()): return False\n",
    "        if (a_queue.front() != a[j]): return False\n",
    "        a_queue.dequeue()\n",
    "    if (a_queue.isEmpty()): return True\n",
    "    else: return False\n",
    "\n",
    "print(checkStringQueue('true$eurt'))\n",
    "print(checkStringQueue('true$true'))"
   ]
  },
  {
   "cell_type": "markdown",
   "metadata": {},
   "source": [
    "### Problem 03\n",
    "\n",
    "LinkedQueue 타입의 객ㅔ a의 내용을 그대로 또 다른 LinkedQueue 타입의 객체 b로 복사하는 코드를 작성하시오."
   ]
  },
  {
   "cell_type": "code",
   "execution_count": 14,
   "metadata": {},
   "outputs": [
    {
     "name": "stdout",
     "output_type": "stream",
     "text": [
      "Queue from front: 0 Mon 24 \n",
      "Queue from front: 0 Mon 24 \n"
     ]
    }
   ],
   "source": [
    "from DS.queue.linkedQueue import *\n",
    "importlib.reload(DS.queue.linkedQueue)\n",
    "from DS.queue.linkedQueue import *\n",
    "\n",
    "problem03_queue = LinkedQueue()\n",
    "problem03_queue.enqueue(0)\n",
    "problem03_queue.enqueue('Mon')\n",
    "problem03_queue.enqueue(24)\n",
    "\n",
    "def copyQueue(obj_a):\n",
    "    temp_queue = LinkedQueue()\n",
    "    for i in range(obj_a.num_Items()):\n",
    "        temp_queue.enqueue(obj_a.front())\n",
    "        obj_a.dequeue()\n",
    "    return temp_queue\n",
    "\n",
    "problem03_queue.printQueue()\n",
    "copied_queue = copyQueue(problem03_queue)\n",
    "copied_queue.printQueue()"
   ]
  },
  {
   "cell_type": "markdown",
   "metadata": {},
   "source": [
    "### Problem 06\n",
    "큐의 사이즈가 n일 때, enqueue()와 dequeue()의 수행 시간은 각각 어떻게 되겠는가?\n",
    "\n",
    "Θ(1)"
   ]
  },
  {
   "cell_type": "markdown",
   "metadata": {},
   "source": [
    "### Problem 07\n",
    "\n",
    "06번 문제의 deque를 원형 연결 리스트가 아닌 [코드 5-15]의 LinkedListBasic 객체를 사용한다면 enqueue()와 dequeue()의 수행 시간은 각각 어떻게 되겠는가?\n",
    "\n",
    "연결리스트의 앞을 front라 하고, 뒤를 tail로 하는 것을 가정한다. 앞을 대상으로 하는 enqueue()와 dequeue() Θ(1) 시간이 걸리며, 뒤를 대상으로 하는 enqueue()와 dequeue()는 Θ(n)이다."
   ]
  },
  {
   "cell_type": "markdown",
   "metadata": {},
   "source": [
    "### Problem 08\n",
    "\n",
    "06번 문제의 자료구조 Deque를 구현하는 클래스 Deque로 바꾸어 보시오. 필요한 매서드를 추가하시오. "
   ]
  },
  {
   "cell_type": "code",
   "execution_count": 19,
   "metadata": {},
   "outputs": [
    {
     "name": "stdout",
     "output_type": "stream",
     "text": [
      "Queue from front: 2 1 A B \n",
      "Queue from front: 2 1 A \n",
      "Queue from front: 1 A \n"
     ]
    }
   ],
   "source": [
    "class ListDeque:\n",
    "    def __init__(self):\n",
    "        self.__queue = []\n",
    "\n",
    "    def enqueue(self, x):\n",
    "        self.__queue.append(x)\n",
    "\n",
    "    def dequeue(self):\n",
    "        return self.__queue.pop(0) # .pop(0): 리스트의 첫 원소를 삭제한 후 원소 리턴\n",
    "\n",
    "    def front(self):\n",
    "        if self.isEmpty():\n",
    "            return None\n",
    "        else:\n",
    "            return self.__queue[0]\n",
    "\n",
    "    def isEmpty(self) -> bool:\n",
    "        return (len(self.__queue) == 0);\n",
    " \n",
    "    def dequeueAll(self):\n",
    "        self.__queue.clear()\n",
    "\n",
    "    def printQueue(self):\n",
    "        print(\"Queue from front:\", end = ' ')\n",
    "        for i in range(len(self.__queue)):\n",
    "            print(self.__queue[i], end = ' ')\n",
    "        print()\n",
    "\n",
    "    def enqueueTail(self, x):\n",
    "        self.__queue.append(x)\n",
    "    def enqueueFront(self, x):\n",
    "        self.__queue.insert(0,x)\n",
    "    def dequeueFront(self):\n",
    "        self.__queue.pop(0)\n",
    "    def dequeueTail(self):\n",
    "        self.__queue.pop()\n",
    "\n",
    "Obj_Deque = ListDeque()\n",
    "Obj_Deque.enqueueFront(1)\n",
    "Obj_Deque.enqueueFront(2)\n",
    "Obj_Deque.enqueueTail('A')\n",
    "Obj_Deque.enqueueTail('B')\n",
    "Obj_Deque.printQueue()\n",
    "Obj_Deque.dequeueTail()\n",
    "Obj_Deque.printQueue()\n",
    "Obj_Deque.dequeueFront()\n",
    "Obj_Deque.printQueue()\n"
   ]
  },
  {
   "cell_type": "markdown",
   "metadata": {},
   "source": [
    "\n",
    "\n",
    "# 8. Heap\n",
    "## \n",
    "8.1. 최대 힙에서 더 얕은 곳에 있는 원소 더 깊은 곳에 있는 원소보 더 작은 값을 가질 수 있는가?\n",
    "있다. \n",
    "\n",
    "예시:\n",
    "\n",
    "    19\n",
    "\n",
    "   /  \\\n",
    "\n",
    "  3   10\n",
    "\n",
    " / \\  / \\\n",
    "\n",
    "1  2 8   9"
   ]
  },
  {
   "cell_type": "markdown",
   "metadata": {},
   "source": [
    "## 8.2\n",
    "최대힙에서 마지막 원소는 가장 작은 값인가?\n",
    "\n",
    "아니오"
   ]
  },
  {
   "cell_type": "markdown",
   "metadata": {},
   "source": [
    "## 8.3 \n",
    "n개 원소 배열에 대한 buildHeap()에서 스며내리기를 하지 않는 원소(노드)의 수는 정확하게 몇 개인가?\n",
    "$\\frac{n}{2}$"
   ]
  },
  {
   "cell_type": "markdown",
   "metadata": {},
   "source": [
    "## 8.4\n",
    "리스트 A[0...n-1] 대상으로 하는 스며내리 알고리즘에서 최악의 경우에 해당하는 시간과 최선의 경우에 해당하는 시간을 $\\Theta$-표기로 나타내시오.\n",
    "\n",
    "최악의 경우 $\\Theta(n)$, 최선의 경우 $\\Theta(1)$"
   ]
  },
  {
   "cell_type": "markdown",
   "metadata": {},
   "source": [
    "## 8.5\n",
    "힙인 상태에서 원소 삭제는 루트 노드만 대상으로 한다. 다른 경우는 존재하지 않는다. 테스트 목적으로 힙의 맨 마지막 원소를 삭제하는 작업을 요구한다면 간단한 일인가?\n",
    "\n",
    "그렇다. 루트 삭제 시 맨 마지막으로 변경한 뒤 삭제하므로, 테스트에서 마지막 원소를 삭제하였다면 추가로 할 작업이 없다. "
   ]
  },
  {
   "cell_type": "markdown",
   "metadata": {},
   "source": [
    "## 8.6\n",
    "\n",
    "buildHeap() 알고리즘에서는 아래쪽에서부터 시작해서 스며내리기를 반복하는데 반약 반대로 하면(위쪽부터 스며오르기를 반복하면) 힙이 만들어진다. 교과서 본문에 제시한 방법에 비해 효율적인가, 효율적인가?\n",
    "\n",
    "본문이 제시한 방법은 $\\Theta(\\log{n})$, 문제 8.6에서 제시한 방법은 $\\Theta(n\\log{n})$ 이다. 본문 방법은 대부분 높이가 $\\Theta(1)$로 아주 낮은 subtree에 대해 행해지는데, 문제의 방법은 대부분 높이가 $\\Theta(\\log{n})$인 최대에 가까운 subtree에 대해 행해진다. \n",
    "\n",
    "\n"
   ]
  },
  {
   "cell_type": "markdown",
   "metadata": {},
   "source": [
    "## 8.7\n",
    "n개의 원소로 이루어진 최대 힙에서 임의의 원소 값이 증가했을 때 O($\\log{n}$) 시간에 이를 반영해서 힙을 수선할 수 있다. 어떻게 하면 되는지 그 과정을 기술하시오.\n",
    "\n",
    "최소힙에서 임의의 원소값이 증가하면 해당 원소와 자식들간의 힙 성질은 전혀 손상되지 않는다. 해당 원소와 부모 원소 간의 힙 성질은 깨질 수 있다. 만일 부모 원소보다 더 크면 부모 노드와 값을 교환한다. 이런 식으로 계속 부모 노드와 비교를 해나가면서 필요하면 값을 교환한다. 값을 교환할 필요가 없는 상태를 처음 만나면 그것으로 힙 성질을 만족시키는 수선은 끝이다. \n",
    "\n",
    "n개의 원소로 이루어진 힙의 높이는 $\\theta(\\log{n})$이므로 최악의 경우라 해도 O($\\log{n}) 시간에 수선할 수 있다. "
   ]
  },
  {
   "cell_type": "markdown",
   "metadata": {},
   "source": [
    "# 9. Chapter 09 Sorting\n",
    "# 9.1. \n",
    "n개 원소가 정렬되지 않은 리스트로 저장되어 있다. 정렬 작업 수행할 때 최악의 경우 소요되는 시간을 O-표기법으로 밝히시오. \n",
    "1. 선택 정렬: $O(n^2)$\n",
    "2. 버블 정렬: $O(n^2)$\n",
    "3. 삽입 정렬: $O(n^2)$\n",
    "4. 병합 정렬: $O(n\\log{n})$\n",
    "5. 퀵 정렬: $O(n^2)$\n",
    "6. 힙 정렬: $O(n\\log{n})$"
   ]
  },
  {
   "cell_type": "markdown",
   "metadata": {},
   "source": [
    "## 9.2.\n",
    "최악의 경우 소요되는 시간을 $\\Theta$-표기법으로 밝히시오.\n",
    "\n",
    "1. 선택 정렬: $\\Theta(n^2)$\n",
    "2. 버블 정렬: $\\Theta(n^2)$\n",
    "3. 삽입 정렬: $\\Theta(n^2)$\n",
    "4. 병합 정렬: $\\Theta(n\\log{n})$\n",
    "5. 퀵 정렬: $\\Theta(n^2)$\n",
    "6. 힙 정렬: $\\Theta(n\\log{n})$"
   ]
  },
  {
   "cell_type": "markdown",
   "metadata": {},
   "source": [
    "## 9.3.\n",
    "최선의 경우 소요되는 시간을 $\\Theta$-표기법으로 밝히시오.\n",
    "\n",
    "1. 선택 정렬: $\\Theta(n^2)$\n",
    "2. 버블 정렬: $\\Theta(n^2)$\n",
    "3. 삽입 정렬: $\\Theta(n^2)$\n",
    "4. 병합 정렬: $\\Theta(n\\log{n})$\n",
    "5. 퀵 정렬: $\\Theta(n\\log{n})$\n",
    "6. 힙 정렬: $\\Theta(n)$"
   ]
  },
  {
   "cell_type": "markdown",
   "metadata": {},
   "source": [
    "## 9.4.\n",
    "평균적으로 소요되는 시간을 $\\Theta$-표기법으로 밝히시오.\n",
    "\n",
    "1. 선택 정렬: $\\Theta(n^2)$\n",
    "2. 버블 정렬: $\\Theta(n^2)$\n",
    "3. 삽입 정렬: $\\Theta(n^2)$\n",
    "4. 병합 정렬: $\\Theta(n\\log{n})$"
   ]
  },
  {
   "cell_type": "markdown",
   "metadata": {},
   "source": [
    "## 9.8."
   ]
  },
  {
   "cell_type": "markdown",
   "metadata": {},
   "source": [
    "이미 정렬된 리스트가 입력으로 들어올 때 선택, 버블, 삽입, 병합, 퀵, 힙 정렬 중 어떤 정렬 알고리즘이 가장 효율적인가?\n",
    "\n",
    "삽입 정렬, $\\Theta(n)$"
   ]
  },
  {
   "cell_type": "markdown",
   "metadata": {},
   "source": [
    "## 9.9.\n",
    "이미 정렬된 리스트가 입력될 때 선택, 버블, 삽입, 병합, 퀵, 힙 정렬 중 상대적으로 비효율적인 알고리즘은?\n",
    "\n",
    "선택, 버블, 퀵 정렬, $\\Theta(n^2)$"
   ]
  },
  {
   "cell_type": "markdown",
   "metadata": {},
   "source": [
    "## 9.10.\n",
    "리스트 A[0...n-1]이 임의의 정렬 알고리즘의 입력으로 들어온다. 다음 각 정렬 알고리즘의 수행 시간을 a. 최선의 경우 b. 평균적인 경우 c. 최악의 경우 각각에 대해 $\\Theta$-표기법으로 밝히시오. \n",
    "||최선의 경우|평균적인 경우|최악의 경우|\n",
    "|---|---|---|---|\n",
    "|선택 정렬|$\\Theta(n^2)$|$\\Theta(n^2)$|$\\Theta(n^2)$|\n",
    "|버블 정렬|$\\Theta(n^2)$|$\\Theta(n^2)$|$\\Theta(n^2)$|\n",
    "|삽입 정렬|$\\Theta(n)$|$\\Theta(n^2)$|$\\Theta(n^2)$|\n",
    "|병합 정렬|$\\Theta(n\\log{n})$|$\\Theta(n\\log{n})$|$\\Theta(n\\log{n})$|\n",
    "|퀵 정렬|$\\Theta(n\\log{n})$|$\\Theta(n\\log{n})$|$\\Theta(n^2)$|\n",
    "\n",
    "역순이 언제 최악인지 살펴 보세요."
   ]
  },
  {
   "cell_type": "markdown",
   "metadata": {},
   "source": [
    "## 9.11.\n",
    "리스트 A[0...n-1]가 정렬되지 않은 상태다. $\\Omicron$-표기법으로 다음 작업 수행 시간을 밝히시오.\n",
    "\n",
    "1. 가장 큰 원소 찾기: $\\Omicron(n)$\n",
    "2. 가장 큰 원소와 작은 원소 동시에 찾기: $\\Omicron(n)$"
   ]
  },
  {
   "cell_type": "markdown",
   "metadata": {},
   "source": [
    "## 9.12.\n",
    "알고리즘 9-4 삽입 정렬의 2는 A[0]부터 A[i-1]이 정렬된 상태에서 A[i]가 들어갈 자리를 찾는다. 이를 위해 A[i-1]부터 시작해 왼쪽부터 차례로 훑어나간다. 이렇게 하면 평균적으로 (i-1)/2번의 비교가 필요하다. 그런데 A[0...i-1]이 이미 정렬되어 있으므로 이진 탐색을 이용하면 (i-1)/2번 대신 $\\log_2{i}$번의 비교로 자리를 찾을 수 있다. 이렇게 하면 삽입 정렬 수행 시간이 절약될 것 같지만 그렇지 않다. 그 이유는?\n",
    "\n",
    "원소 A[i]가 들어갈 자리를 찾기 위한 시간은 절약할 수 있지만, A[i]가 들어갈 자리부터 오른쪽에 있는 원소들을 모두 한 칸식 이동해야 하므로 점근적 시간이 절약되지 않는다. 각 A[i]를 위해 평균 $\\frac{i-1}{2}$번의 이동이 필요하다. "
   ]
  },
  {
   "cell_type": "markdown",
   "metadata": {},
   "source": [
    "## 9.13.\n",
    "알고리즘 9-13 기수 정렬의 1에서 사용하는 정렬이 안정성을 유지하는 정렬이 아니면 어떻게 되는가?\n",
    "\n",
    "정렬이 제대로 되지 않는다. 안정한 정렬이 아닌 경우 k번째 자리의 수가 같으면, 앞에서 k-1번째 자리까지 제대로 정렬되어 있던 것이 순서가 바뀔 수 있다. "
   ]
  },
  {
   "cell_type": "markdown",
   "metadata": {},
   "source": [
    "## 9.14.\n",
    "다음 정렬의 안정성을 표기하라. \n",
    "1. 선택 정렬: X\n",
    "2. 버블 정렬: O\n",
    "3. 삽입 정렬: O\n",
    "4. 병합 정렬: O\n",
    "5. 퀵 정렬: X\n",
    "6. 힙 정렬: X\n",
    "7. 기수 정렬: O\n",
    "8. 계수 정렬: O"
   ]
  },
  {
   "cell_type": "markdown",
   "metadata": {},
   "source": [
    "## 9.15. \n",
    "정렬할 원소들이 모두 -k와 k 사이의 정수이고 k가 O(n)일 경우에도 여전히 계수 정렬을 사용하여 선형 시간에 정렬할 수 있다. 본문에서 소개한 계수 정렬 알고리즘을 어떻게 수정하면 되겠는가?\n",
    "\n",
    "배열의 모든 원소에 k+1을 더한 다음 [알고리즘 9-12] countingSort(A, n)을 호출하되, 알고리즘 안의 상수 k 대신 2k+1을 사용한다. 이제 정렬된 겨로가에서 모든 원소에 k+1을 빼주면 된다. \n",
    "\n",
    "## 9.16.\n",
    "1. 퀵정렬이 느린 예시다. 이유를 추측하라.\n",
    "함수 prepare()가 0부터 1000 사이의 정수를 생성하므로, 원소의 수가 1000개를 많이 넘어서면 원소의 중복이 심하게 일어난다. $N=10^5$인 경우 각 원소는 평균 100번씩 중복이 일어나고 $N=10^7$인 경우 각 원소는 평균 1만번씩 중복이 일어난다. 중복된 원소가 많으면 함수 partition()의 균형이 최악으로 무너지므로 정렬의 성능이 현저히 나빠진다.\n",
    "2. 느리고 오버플로우가 발생했다.\n",
    "두 번째 quickSort()는 이미 정렬된 배열에 대해 수행되므로 처음부터 끝까지 partition()의 균형이 최악으로 무너진다. 결과적으로 $\\Theta(n^2)$ 시간이 소요된다. "
   ]
  },
  {
   "cell_type": "markdown",
   "metadata": {},
   "source": [
    "## 9.17\n",
    "퀵 정렬 알고리즘의 동일한 원소가 많이 존재할 때 성능이 떨어지는 단점을 보완하는 코드다. partition()을 완성하라. "
   ]
  },
  {
   "cell_type": "code",
   "execution_count": 2,
   "metadata": {},
   "outputs": [],
   "source": [
    "# 디버깅은 직접 해 보세요.\n",
    "def partition(A, p, r):\n",
    "    x = A[r]\n",
    "    i = p - 1\n",
    "    for j in range(p, r):\n",
    "        if A[j] < x:\n",
    "            i += 1\n",
    "            A[i], A[j] = A[j], A[i]\n",
    "        elif A[j] == x and (j % 2) == 1:\n",
    "            i += 1\n",
    "            A[i], A[j] = A[j], A[i]\n",
    "    \n",
    "    A[i + 1], A[r] = A[r], A[i + 1]\n",
    "    return i + 1"
   ]
  },
  {
   "cell_type": "markdown",
   "metadata": {},
   "source": [
    "## 9.18.\n",
    "[알고리즘 9-14]의 버킷 정렬은 버킷 리스트를 만드는 과정에서 공간과 시간을 많이 소모한다. 그런데 버킷 리스트를 사용하지 않고도 버킷 정렬을 구현할 수 있다. 대략적인 아이디어는 다음과 같다. 이 방식으로 버킷 정렬 알고리즘을 작성해 보시오. \n",
    "\n",
    "각 버킷에 들어가는 원소의 수를 세는 것은 간단하다. 이를 기반으로 각 버킷의 원소들이 들어갈 리스트 A[]의 범위를 알 수 있다. 앞에서 배운 계수 정렬의 아이디어를 차용한 것인데, 계수 정렬이 특정 원소의 수를 센다면 버킷 정렬에서는 특정 범위의 수를 센다(전체 구간을 n개로 나누어 각 구간에 들어갈 원소의 수를 센다). 이를 기반으로 버킷 대신 A[0...n-1]에 바로 집어넣어 후속 처리를 하면 된다. "
   ]
  },
  {
   "cell_type": "markdown",
   "metadata": {},
   "source": [
    "## 9.19.\n",
    "병합 정렬은 빠르게 하기 위한 아이디어다. 보조 리스트로 추가 공간이 필요하다는 점은 피할 수 없지만, 리스트 tmp[]로 병합 했다가 A[]로 되써주는 과정은 개선할 수 있다. 즉, 리스트 A[]와 리스트 tmp[]가 주 리스트와 보조 리스트의 역할을 매번 바꾸면서 요령 있게 정렬할 수 있다. 이렇게 하면 크기가 백만일 때는 평균 25%, 크기 일억일 때는 평균 15% 정도 빨라진다. 이를 구현하라. "
   ]
  },
  {
   "cell_type": "code",
   "execution_count": null,
   "metadata": {},
   "outputs": [],
   "source": [
    "# 디버깅은 직접 해 보세요.\n",
    "\n",
    "def switching_mergeSort(A):\n",
    "    B = A.copy()\n",
    "    swt_ms(0, len(A) - 1, A, B)\n",
    "\n",
    "def swt_ms(p, r, A, B):\n",
    "    if p < r:\n",
    "        q = (p + r) // 2\n",
    "        swt_ms(p, q, B, A)\n",
    "        swt_ms(q + 1, r, B, A)\n",
    "        switching_merge(p, q, r, B, A)\n",
    "\n",
    "def switching_merge(p, q, r, C, D):\n",
    "    i = p\n",
    "    j = q + 1\n",
    "    t = p\n",
    "    while i <= q and j <= r:\n",
    "        if C[i] <= C[j]:\n",
    "            D[t] = C[i]\n",
    "            i += 1\n",
    "        else:\n",
    "            D[t] = C[j]\n",
    "            j += 1\n",
    "        t += 1\n",
    "    while i <= q:\n",
    "        D[t] = C[i]\n",
    "        i += 1\n",
    "        t += 1\n",
    "    while j <= r:\n",
    "        D[t] = C[j]\n",
    "        j += 1\n",
    "        t += 1"
   ]
  },
  {
   "cell_type": "markdown",
   "metadata": {},
   "source": []
  }
 ],
 "metadata": {
  "kernelspec": {
   "display_name": "Python 3",
   "language": "python",
   "name": "python3"
  },
  "language_info": {
   "codemirror_mode": {
    "name": "ipython",
    "version": 3
   },
   "file_extension": ".py",
   "mimetype": "text/x-python",
   "name": "python",
   "nbconvert_exporter": "python",
   "pygments_lexer": "ipython3",
   "version": "3.12.6"
  }
 },
 "nbformat": 4,
 "nbformat_minor": 2
}
